{
  "nbformat": 4,
  "nbformat_minor": 0,
  "metadata": {
    "colab": {
      "name": "Spacy.ipynb",
      "provenance": [],
      "collapsed_sections": [],
      "toc_visible": true
    },
    "kernelspec": {
      "name": "python3",
      "display_name": "Python 3"
    }
  },
  "cells": [
    {
      "cell_type": "markdown",
      "metadata": {
        "id": "vbUGQQeeRqTf",
        "colab_type": "text"
      },
      "source": [
        "# Text mining com Spacy"
      ]
    },
    {
      "cell_type": "markdown",
      "metadata": {
        "id": "8kibehwIQ8o7",
        "colab_type": "text"
      },
      "source": [
        "##**Importando biblioteca**"
      ]
    },
    {
      "cell_type": "code",
      "metadata": {
        "id": "FE5jGV8CRLuF",
        "colab_type": "code",
        "colab": {}
      },
      "source": [
        "import spacy\n",
        "from spacy.lang.pt import Portuguese"
      ],
      "execution_count": 0,
      "outputs": []
    },
    {
      "cell_type": "markdown",
      "metadata": {
        "id": "eVmJSxXNRjPG",
        "colab_type": "text"
      },
      "source": [
        "##**Instância do algorítimo, texto exemplo e tokenização**"
      ]
    },
    {
      "cell_type": "code",
      "metadata": {
        "id": "3d1aSCxjRoG_",
        "colab_type": "code",
        "outputId": "e997aab5-819b-42d2-d5ef-cbde7d5a079b",
        "colab": {
          "base_uri": "https://localhost:8080/",
          "height": 34
        }
      },
      "source": [
        "nlp = Portuguese()\n",
        "\n",
        "#texto = \"Tudo o que um sonho precisa para ser realizado é alguém que acredite que ele possa ser realizado.\"\n",
        "texto = \"USO ORAL ACIDO FÓLICO 5MG USO CONTÍNUO TOMAR 1 COMPRIMIDO VIA ORAL /DIA\"\n",
        "\n",
        "#criação do documento com anotações linguisticas\n",
        "meu_doc = nlp(texto)\n",
        "\n",
        "#lista dos tokens\n",
        "token_list = []\n",
        "\n",
        "for token in meu_doc:\n",
        "    token_list.append(token.text)\n",
        "print(token_list)\n",
        "\n"
      ],
      "execution_count": 0,
      "outputs": [
        {
          "output_type": "stream",
          "text": [
            "['USO', 'ORAL', 'ACIDO', 'FÓLICO', '5MG', 'USO', 'CONTÍNUO', 'TOMAR', '1', 'COMPRIMIDO', 'VIA', 'ORAL', '/DIA']\n"
          ],
          "name": "stdout"
        }
      ]
    },
    {
      "cell_type": "markdown",
      "metadata": {
        "id": "YhXMdPu4UZY4",
        "colab_type": "text"
      },
      "source": [
        "###Tokenização por sentença"
      ]
    },
    {
      "cell_type": "code",
      "metadata": {
        "id": "fyI5muscUc9b",
        "colab_type": "code",
        "outputId": "456dde09-a3d6-4872-af28-8b72a8de89d6",
        "colab": {
          "base_uri": "https://localhost:8080/",
          "height": 34
        }
      },
      "source": [
        "nlp = Portuguese()\n",
        "\n",
        "sent = nlp.create_pipe('sentencizer')\n",
        "\n",
        "nlp.add_pipe(sent)\n",
        "\n",
        "texto = \"Tudo o que um sonho precisa para ser realizado é alguém que acredite que ele possa ser realizado. Outra sentença\"\n",
        "\n",
        "doc = nlp(texto)\n",
        "\n",
        "sents_list = []\n",
        "for sent in doc.sents:\n",
        "    sents_list.append(sent.text)\n",
        "print(sents_list)"
      ],
      "execution_count": 0,
      "outputs": [
        {
          "output_type": "stream",
          "text": [
            "['Tudo o que um sonho precisa para ser realizado é alguém que acredite que ele possa ser realizado.', 'Outra sentença']\n"
          ],
          "name": "stdout"
        }
      ]
    },
    {
      "cell_type": "markdown",
      "metadata": {
        "id": "CoaknBH5Uh1y",
        "colab_type": "text"
      },
      "source": [
        "##Removendo stopwords"
      ]
    },
    {
      "cell_type": "code",
      "metadata": {
        "id": "MhG2mIM4Us5O",
        "colab_type": "code",
        "outputId": "41af2821-7a64-47f3-d957-33920a955dea",
        "colab": {
          "base_uri": "https://localhost:8080/",
          "height": 70
        }
      },
      "source": [
        "#importando stopwords da linguangem portuguesa, é importante deixar claro qual linguagem é\n",
        "import spacy\n",
        "spacy_stopwords = spacy.lang.pt.stop_words.STOP_WORDS\n",
        "\n",
        "#quantidade de stopwords existentes:\n",
        "print('Número de stopwords: %d' % len(spacy_stopwords))\n",
        "\n",
        "#as primeiras da lsita:\n",
        "print('stopwords: %s' % list(spacy_stopwords)[:20])\n",
        "\n",
        "#se "
      ],
      "execution_count": 0,
      "outputs": [
        {
          "output_type": "stream",
          "text": [
            "Número de stop words: 413\n",
            "stop words: ['nova', 'pôde', 'nunca', 'temos', 'contra', 'dezanove', 'números', 'essas', 'foi', 'tais', 'irá', 'corrente', 'muitos', 'contudo', 'quatro', 'oitavo', 'cedo', 'quer', 'ainda', 'quarta']\n"
          ],
          "name": "stdout"
        }
      ]
    },
    {
      "cell_type": "markdown",
      "metadata": {
        "id": "IiKtYAuCVuMG",
        "colab_type": "text"
      },
      "source": [
        "###Removendo as stopwords do texto"
      ]
    },
    {
      "cell_type": "code",
      "metadata": {
        "id": "e1gKbqEfV1bW",
        "colab_type": "code",
        "outputId": "58b24272-6c58-4339-d1f9-2a3925bc65df",
        "colab": {
          "base_uri": "https://localhost:8080/",
          "height": 51
        }
      },
      "source": [
        "from spacy.lang.pt.stop_words import STOP_WORDS\n",
        "\n",
        "sentenca_filtrada=[]\n",
        "\n",
        "doc = nlp(texto)\n",
        "\n",
        "# filtering stop words\n",
        "for palavra in doc:\n",
        "    if palavra.is_stop==False:\n",
        "        sentenca_filtrada.append(palavra)\n",
        "print(\"Texto sem stopwords:\",sentenca_filtrada)\n",
        "#texto: Tudo o que um sonho precisa para ser realizado é alguém que acredite que ele possa ser realizado. Outra sentença\n",
        "\n",
        "#removendo caracteres especiais\n",
        "import re\n",
        "\n",
        "string_nova = re.sub(r\"[^a-zA-Z0-9ÁáÉéÍíÓóÚú: ]+\", repl, texto) \n",
        "print (string_nova)"
      ],
      "execution_count": 0,
      "outputs": [
        {
          "output_type": "stream",
          "text": [
            "Texto sem stopwords: [USO, ORAL, ACIDO, FÓLICO, 5MG, USO, CONTÍNUO, TOMAR, 1, COMPRIMIDO, VIA, ORAL, /DIA]\n",
            "USO ORAL ACIDO FÓLICO 5MG USO CONTÍNUO TOMAR 1 COMPRIMIDO VIA ORAL DIA\n"
          ],
          "name": "stdout"
        }
      ]
    },
    {
      "cell_type": "markdown",
      "metadata": {
        "id": "XQYtJE98W45X",
        "colab_type": "text"
      },
      "source": [
        "##Lematização com stemming"
      ]
    },
    {
      "cell_type": "code",
      "metadata": {
        "id": "YTUwJN0TW9eF",
        "colab_type": "code",
        "outputId": "66874992-d601-435a-c40e-e34bf2bd433c",
        "colab": {
          "base_uri": "https://localhost:8080/",
          "height": 238
        }
      },
      "source": [
        "lem = nlp(texto)\n",
        "\n",
        "#para cada palavra existe um 'lema', geralmente no português é o infinitivo da palavra\n",
        "for palavra in lem:\n",
        "    print(palavra.text,palavra.lemma_)"
      ],
      "execution_count": 0,
      "outputs": [
        {
          "output_type": "stream",
          "text": [
            "USO USO\n",
            "ORAL ORAL\n",
            "ACIDO ACIDO\n",
            "FÓLICO FÓLICO\n",
            "5MG 5MG\n",
            "USO USO\n",
            "CONTÍNUO CONTÍNUO\n",
            "TOMAR TOMAR\n",
            "1 1\n",
            "COMPRIMIDO COMPRIMIDO\n",
            "VIA VIA\n",
            "ORAL ORAL\n",
            "/DIA /DIA\n"
          ],
          "name": "stdout"
        }
      ]
    },
    {
      "cell_type": "markdown",
      "metadata": {
        "id": "J9SaDTdiX02S",
        "colab_type": "text"
      },
      "source": [
        "##Part of Speech(POS) ou Partes do Discurso (por enquanto em inglês)"
      ]
    },
    {
      "cell_type": "code",
      "metadata": {
        "id": "CjF86xUcX2cN",
        "colab_type": "code",
        "outputId": "b2df1683-26c5-434a-fa1d-5f0c4317cc00",
        "colab": {
          "base_uri": "https://localhost:8080/",
          "height": 269
        }
      },
      "source": [
        "#A parte do discurso explica como uma palavra é usada em uma frase. Existem oito partes principais do discurso: \n",
        "#substantivos, pronomes, adjetivos, verbos, advérbios, preposições, conjunções e interjeições.\n",
        "\n",
        "\n",
        "#importando o modelo pt_core_web_sm do português para início de sintaxe e entidades\n",
        "import en_core_web_sm\n",
        "\n",
        "texto_ingles  = \"You’ll have the view of the top of the mountain that you climb.\"\n",
        "nlp = en_core_web_sm.load()\n",
        "\n",
        "doc = nlp(texto_ingles)\n",
        "\n",
        "for palavra in doc:\n",
        "    print(palavra.text,palavra.pos_)"
      ],
      "execution_count": 0,
      "outputs": [
        {
          "output_type": "stream",
          "text": [
            "You PRON\n",
            "’ll AUX\n",
            "have VERB\n",
            "the DET\n",
            "view NOUN\n",
            "of ADP\n",
            "the DET\n",
            "top NOUN\n",
            "of ADP\n",
            "the DET\n",
            "mountain NOUN\n",
            "that DET\n",
            "you PRON\n",
            "climb VERB\n",
            ". PUNCT\n"
          ],
          "name": "stdout"
        }
      ]
    }
  ]
}